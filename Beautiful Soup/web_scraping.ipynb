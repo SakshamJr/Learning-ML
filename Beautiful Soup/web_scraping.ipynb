{
 "cells": [
  {
   "cell_type": "code",
   "execution_count": null,
   "metadata": {},
   "outputs": [],
   "source": [
    "import pandas as pd\n",
    "import requests\n",
    "from bs4 import BeautifulSoup"
   ]
  },
  {
   "cell_type": "code",
   "execution_count": null,
   "metadata": {},
   "outputs": [],
   "source": [
    "headers = {\n",
    "    \"User-Agent\": \"Mozilla/5.0 (Windows NT 6.3; Win64; x64) AppleWebKit/537.36 (KHTML, like Gecko) Chrome/80.0.3987.162 Safari/537.36\"\n",
    "}\n",
    "webpage = requests.get(\"https://www.gharghaderi.com/house-for-sale/kathmandu/\",headers=headers).text"
   ]
  },
  {
   "cell_type": "code",
   "execution_count": null,
   "metadata": {},
   "outputs": [],
   "source": [
    "soup = BeautifulSoup(webpage,'lxml')"
   ]
  },
  {
   "cell_type": "code",
   "execution_count": null,
   "metadata": {},
   "outputs": [],
   "source": [
    "print(soup.prettify())"
   ]
  },
  {
   "cell_type": "code",
   "execution_count": null,
   "metadata": {},
   "outputs": [],
   "source": [
    "for i in soup.find_all('h3'):\n",
    "    print(i.text.strip())"
   ]
  },
  {
   "cell_type": "code",
   "execution_count": null,
   "metadata": {},
   "outputs": [],
   "source": [
    "for i in soup.find_all(class_ = 'title'):\n",
    "    print(i.text.strip())"
   ]
  },
  {
   "cell_type": "code",
   "execution_count": null,
   "metadata": {},
   "outputs": [],
   "source": [
    "for i in soup.find_all('p', class_ = 'land'):\n",
    "    print(i.text.strip())"
   ]
  },
  {
   "cell_type": "code",
   "execution_count": null,
   "metadata": {},
   "outputs": [],
   "source": [
    "home = soup.find_all('div',class_='grid-item')\n",
    "price = []\n",
    "area = []\n",
    "location = []\n",
    "for i in home:\n",
    "    price.append(i.find(class_ = 'title').text.strip())\n",
    "    area.append(i.find('p',class_='land').text.strip())\n",
    "    location.append(i.find('p', class_ = 'road').text.strip())"
   ]
  },
  {
   "cell_type": "code",
   "execution_count": null,
   "metadata": {},
   "outputs": [],
   "source": [
    "import pandas as pd\n",
    "data = {\n",
    "    'Price':price,\n",
    "    'Area':area,\n",
    "    'Location':location\n",
    "}"
   ]
  },
  {
   "cell_type": "code",
   "execution_count": null,
   "metadata": {},
   "outputs": [],
   "source": [
    "data = pd.DataFrame(data)"
   ]
  },
  {
   "cell_type": "code",
   "execution_count": null,
   "metadata": {},
   "outputs": [],
   "source": [
    "data"
   ]
  },
  {
   "cell_type": "code",
   "execution_count": null,
   "metadata": {},
   "outputs": [],
   "source": [
    "home = soup.find_all(\"div\", class_=\"grid-thirds2 grid-thirds\")\n",
    "price = []\n",
    "area = []\n",
    "location = []\n",
    "# print(home)\n",
    "for i in home:\n",
    "    print(i.find(\"a\").text.strip())\n",
    "    # price.append(i.find(class_=\"title\").text.strip())\n",
    "    # area.append(i.find(\"p\", class_=\"land\").text.strip())\n",
    "    # location.append(i.find(\"p\", class_=\"road\").text.strip())"
   ]
  },
  {
   "cell_type": "code",
   "execution_count": null,
   "metadata": {},
   "outputs": [],
   "source": [
    "parent_div = soup.find(\"div\", class_=\"grid-thirds2 grid-thirds\")\n",
    "\n",
    "# Extract href attributes from all <a> tags within the parent div\n",
    "hrefs = [a[\"href\"] for a in parent_div.find_all(\"a\")]\n",
    "# print(hrefs)\n",
    "\n",
    "\n",
    "price = []\n",
    "area = []\n",
    "location = []\n",
    "road_size = []\n",
    "living_rooms = []\n",
    "bed = []\n",
    "bath = []\n",
    "kitchen = []\n",
    "cars = []\n",
    "\n",
    "# print(home)\n",
    "for i in hrefs:\n",
    "    link = requests.get(\"https://www.gharghaderi.com\" + i, headers=headers).text\n",
    "    print(link)\n",
    "    individual_soup = BeautifulSoup(link, \"html.parser\")\n",
    "    table = individual_soup.find(\"table\", class_=\"left\")\n",
    "    for row in table.find_all(\"tr\"):\n",
    "        # Get all the cells in the row\n",
    "        cells = row.find_all(\"td\")\n",
    "        # Extract the text from each cell and clean it up\n",
    "        for cell in cells:\n",
    "            # Remove <span> and <br> tags and extract text\n",
    "            text = cell.get_text(separator=\" \", strip=True)\n",
    "        data.append(text)\n",
    "    price.append(individual_soup.find(\"td\", class_=\"lower\").text.strip())\n",
    "    area.append(individual_soup.find(\"td\", class_=\"lower\").text.strip())\n",
    "    road_size.append(individual_soup.find(\"td\", class_=\"lower\").text.strip())"
   ]
  },
  {
   "cell_type": "code",
   "execution_count": null,
   "metadata": {},
   "outputs": [],
   "source": [
    "area"
   ]
  },
  {
   "cell_type": "code",
   "execution_count": null,
   "metadata": {},
   "outputs": [],
   "source": []
  }
 ],
 "metadata": {
  "kernelspec": {
   "display_name": "Python 3",
   "language": "python",
   "name": "python3"
  },
  "language_info": {
   "codemirror_mode": {
    "name": "ipython",
    "version": 3
   },
   "file_extension": ".py",
   "mimetype": "text/x-python",
   "name": "python",
   "nbconvert_exporter": "python",
   "pygments_lexer": "ipython3",
   "version": "3.11.4"
  }
 },
 "nbformat": 4,
 "nbformat_minor": 2
}
