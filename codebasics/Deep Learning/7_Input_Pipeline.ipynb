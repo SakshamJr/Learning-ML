{
 "cells": [
  {
   "cell_type": "code",
   "execution_count": 28,
   "metadata": {},
   "outputs": [],
   "source": [
    "import tensorflow as tf"
   ]
  },
  {
   "cell_type": "code",
   "execution_count": 29,
   "metadata": {},
   "outputs": [],
   "source": [
    "daily_sales_number = [21, 22, -108, 31, -1, 32, 34, 31]"
   ]
  },
  {
   "cell_type": "code",
   "execution_count": 30,
   "metadata": {},
   "outputs": [
    {
     "data": {
      "text/plain": [
       "<_TensorSliceDataset element_spec=TensorSpec(shape=(), dtype=tf.int32, name=None)>"
      ]
     },
     "execution_count": 30,
     "metadata": {},
     "output_type": "execute_result"
    }
   ],
   "source": [
    "tf_dataset = tf.data.Dataset.from_tensor_slices(daily_sales_number)\n",
    "tf_dataset"
   ]
  },
  {
   "cell_type": "code",
   "execution_count": 31,
   "metadata": {},
   "outputs": [
    {
     "name": "stdout",
     "output_type": "stream",
     "text": [
      "21\n",
      "22\n",
      "-108\n",
      "31\n",
      "-1\n",
      "32\n",
      "34\n",
      "31\n"
     ]
    }
   ],
   "source": [
    "for sales in tf_dataset.as_numpy_iterator():\n",
    "    print(sales)"
   ]
  },
  {
   "cell_type": "code",
   "execution_count": 32,
   "metadata": {},
   "outputs": [
    {
     "name": "stdout",
     "output_type": "stream",
     "text": [
      "21\n",
      "22\n",
      "-108\n"
     ]
    }
   ],
   "source": [
    "for sales in tf_dataset.take(3):\n",
    "    print(sales.numpy())"
   ]
  },
  {
   "cell_type": "code",
   "execution_count": 33,
   "metadata": {},
   "outputs": [
    {
     "name": "stdout",
     "output_type": "stream",
     "text": [
      "21\n",
      "22\n",
      "31\n",
      "32\n",
      "34\n",
      "31\n"
     ]
    }
   ],
   "source": [
    "tf_dataset = tf_dataset.filter(lambda x: x>0)\n",
    "for sales in tf_dataset:\n",
    "    print(sales.numpy())"
   ]
  },
  {
   "cell_type": "code",
   "execution_count": 34,
   "metadata": {},
   "outputs": [
    {
     "name": "stdout",
     "output_type": "stream",
     "text": [
      "2730\n",
      "2860\n",
      "4030\n",
      "4160\n",
      "4420\n",
      "4030\n"
     ]
    }
   ],
   "source": [
    "tf_dataset = tf_dataset.map(lambda x: x*130)\n",
    "for sales in tf_dataset:\n",
    "    print(sales.numpy())"
   ]
  },
  {
   "cell_type": "code",
   "execution_count": 35,
   "metadata": {},
   "outputs": [
    {
     "name": "stdout",
     "output_type": "stream",
     "text": [
      "4030\n",
      "4030\n",
      "2730\n",
      "4420\n",
      "2860\n",
      "4160\n"
     ]
    }
   ],
   "source": [
    "tf_dataset = tf_dataset.shuffle(10)\n",
    "for sales in tf_dataset:\n",
    "    print(sales.numpy())"
   ]
  },
  {
   "cell_type": "code",
   "execution_count": 36,
   "metadata": {},
   "outputs": [
    {
     "name": "stdout",
     "output_type": "stream",
     "text": [
      "[4030 4420]\n",
      "[4030 2730]\n",
      "[4160 2860]\n"
     ]
    }
   ],
   "source": [
    "for sales_batch in tf_dataset.batch(2):\n",
    "    print(sales_batch.numpy())"
   ]
  },
  {
   "cell_type": "code",
   "execution_count": 37,
   "metadata": {},
   "outputs": [],
   "source": [
    "tf_dataset = tf.data.Dataset.from_tensor_slices(daily_sales_number)\n",
    "tf_dataset = tf_dataset.filter(lambda x: x > 0).map(lambda y: y * 130).shuffle(10).batch(2)"
   ]
  },
  {
   "cell_type": "code",
   "execution_count": 38,
   "metadata": {},
   "outputs": [
    {
     "name": "stdout",
     "output_type": "stream",
     "text": [
      "[4420 4160]\n",
      "[4030 2730]\n",
      "[4030 2860]\n"
     ]
    }
   ],
   "source": [
    "for sales in tf_dataset:\n",
    "    print(sales.numpy())"
   ]
  },
  {
   "cell_type": "code",
   "execution_count": 40,
   "metadata": {},
   "outputs": [
    {
     "name": "stdout",
     "output_type": "stream",
     "text": [
      "b'datasets\\\\images\\\\cats\\\\1.jpeg'\n",
      "b'datasets\\\\images\\\\cats\\\\2.jpeg'\n",
      "b'datasets\\\\images\\\\cats\\\\3.jpeg'\n",
      "b'datasets\\\\images\\\\cats\\\\4.jpeg'\n"
     ]
    }
   ],
   "source": [
    "images_ds = tf.data.Dataset.list_files(\"datasets/images/*/*\", shuffle=False)\n",
    "for file in images_ds.take(4):\n",
    "    print(file.numpy())"
   ]
  },
  {
   "cell_type": "code",
   "execution_count": 43,
   "metadata": {},
   "outputs": [
    {
     "name": "stdout",
     "output_type": "stream",
     "text": [
      "b'datasets\\\\images\\\\dogs\\\\images (19).jpeg'\n",
      "b'datasets\\\\images\\\\dogs\\\\images (66).jpeg'\n",
      "b'datasets\\\\images\\\\cats\\\\download (27).jpeg'\n",
      "b'datasets\\\\images\\\\dogs\\\\images (25).jpeg'\n"
     ]
    }
   ],
   "source": [
    "images_ds = images_ds.shuffle(243)\n",
    "for file in images_ds.take(4):\n",
    "    print(file.numpy())"
   ]
  },
  {
   "cell_type": "code",
   "execution_count": 44,
   "metadata": {},
   "outputs": [],
   "source": [
    "class_names = [\"cat\", \"dog\"]"
   ]
  },
  {
   "cell_type": "code",
   "execution_count": 47,
   "metadata": {},
   "outputs": [
    {
     "data": {
      "text/plain": [
       "242"
      ]
     },
     "execution_count": 47,
     "metadata": {},
     "output_type": "execute_result"
    }
   ],
   "source": [
    "image_count = len(images_ds)\n",
    "image_count"
   ]
  },
  {
   "cell_type": "code",
   "execution_count": 48,
   "metadata": {},
   "outputs": [],
   "source": [
    "train_size = int(image_count * 0.8)\n",
    "train_ds = images_ds.take(train_size)\n",
    "test_ds = images_ds.skip(train_size)"
   ]
  },
  {
   "cell_type": "code",
   "execution_count": 49,
   "metadata": {},
   "outputs": [
    {
     "data": {
      "text/plain": [
       "193"
      ]
     },
     "execution_count": 49,
     "metadata": {},
     "output_type": "execute_result"
    }
   ],
   "source": [
    "len(train_ds)"
   ]
  },
  {
   "cell_type": "code",
   "execution_count": 50,
   "metadata": {},
   "outputs": [
    {
     "data": {
      "text/plain": [
       "49"
      ]
     },
     "execution_count": 50,
     "metadata": {},
     "output_type": "execute_result"
    }
   ],
   "source": [
    "len(test_ds)"
   ]
  },
  {
   "cell_type": "code",
   "execution_count": 52,
   "metadata": {},
   "outputs": [
    {
     "data": {
      "text/plain": [
       "'dogs'"
      ]
     },
     "execution_count": 52,
     "metadata": {},
     "output_type": "execute_result"
    }
   ],
   "source": [
    "s = 'datasets\\\\images\\\\dogs\\\\images (19).jpeg'\n",
    "s.split('\\\\')[-2]"
   ]
  },
  {
   "cell_type": "code",
   "execution_count": 56,
   "metadata": {},
   "outputs": [],
   "source": [
    "import os\n",
    "def get_label(file_path):\n",
    "    return tf.strings.split(file_path, os.path.sep)[-2]\n",
    "    # file_path.split('\\\\')[-2]"
   ]
  },
  {
   "cell_type": "code",
   "execution_count": 60,
   "metadata": {},
   "outputs": [],
   "source": [
    "def process_image(file_path):\n",
    "    label = get_label(file_path)\n",
    "    img = tf.io.read_file(file_path)\n",
    "    img = tf.image.decode_jpeg(img)\n",
    "    img = tf.image.resize(img, [128, 128])\n",
    "    return img, label"
   ]
  },
  {
   "cell_type": "code",
   "execution_count": 57,
   "metadata": {},
   "outputs": [
    {
     "name": "stdout",
     "output_type": "stream",
     "text": [
      "b'datasets\\\\images\\\\dogs\\\\download (11).jpeg'\n",
      "b'datasets\\\\images\\\\cats\\\\images - 2024-06-25T184052.986.jpeg'\n",
      "b'datasets\\\\images\\\\cats\\\\download (31).jpeg'\n",
      "b'datasets\\\\images\\\\cats\\\\images (40).jpeg'\n"
     ]
    }
   ],
   "source": [
    "for t in train_ds.take(4):\n",
    "    print(t.numpy())"
   ]
  },
  {
   "cell_type": "code",
   "execution_count": 66,
   "metadata": {},
   "outputs": [
    {
     "name": "stdout",
     "output_type": "stream",
     "text": [
      "tf.Tensor(\n",
      "[[[ 80.00316    94.00316    59.00316  ]\n",
      "  [ 91.42354   105.42354    70.42354  ]\n",
      "  [ 91.88248   105.77701    73.093414 ]\n",
      "  ...\n",
      "  [ 12.         13.          5.       ]\n",
      "  [ 13.953125   14.953125    6.953125 ]\n",
      "  [ 15.309341   16.309341    8.309341 ]]\n",
      "\n",
      " [[ 77.17911    89.526764   56.179108 ]\n",
      "  [ 84.77452    97.12218    63.77452  ]\n",
      "  [ 86.70212    99.002396   67.796875 ]\n",
      "  ...\n",
      "  [ 11.449219   12.449219    4.4492188]\n",
      "  [ 12.5859375  13.5859375   5.5859375]\n",
      "  [ 14.449219   15.449219    7.4492188]]\n",
      "\n",
      " [[ 77.88689    88.88689    56.886887 ]\n",
      "  [ 77.45854    88.45854    56.45854  ]\n",
      "  [ 79.68582    90.68582    60.68582  ]\n",
      "  ...\n",
      "  [  9.985214   10.985214    2.9852142]\n",
      "  [ 11.21875    12.21875     4.21875  ]\n",
      "  [ 12.511887   13.511887    5.5118866]]\n",
      "\n",
      " ...\n",
      "\n",
      " [[155.27734   129.51953    98.98047  ]\n",
      "  [111.60307    90.0562     59.209045 ]\n",
      "  [150.56895   133.56895   105.73302  ]\n",
      "  ...\n",
      "  [207.77596   206.86664   152.64705  ]\n",
      "  [220.69733   218.72467   170.16708  ]\n",
      "  [218.6967    215.86076   172.67683  ]]\n",
      "\n",
      " [[140.89357   114.85675    86.07268  ]\n",
      "  [123.83856   102.23027    74.053406 ]\n",
      "  [149.22443   131.7752    106.673645 ]\n",
      "  ...\n",
      "  [201.23047   201.73778   146.21585  ]\n",
      "  [206.5651    206.48979   155.86479  ]\n",
      "  [208.44264   207.44264   161.30202  ]]\n",
      "\n",
      " [[155.01654   128.63763   101.498505 ]\n",
      "  [186.68004   164.29166   139.62926  ]\n",
      "  [174.80608   156.80608   134.43889  ]\n",
      "  ...\n",
      "  [198.21825   199.21825   142.13214  ]\n",
      "  [208.73936   208.73936   157.0128   ]\n",
      "  [206.9749    205.9749    158.73271  ]]], shape=(128, 128, 3), dtype=float32)\n",
      "tf.Tensor(b'dogs', shape=(), dtype=string)\n"
     ]
    }
   ],
   "source": [
    "train_ds = train_ds.map(process_image)\n",
    "for image, label in train_ds.take(1):\n",
    "    print(image)\n",
    "    print(label)"
   ]
  },
  {
   "cell_type": "code",
   "execution_count": 67,
   "metadata": {},
   "outputs": [],
   "source": [
    "def scale(image, label):\n",
    "    return image/255, label"
   ]
  },
  {
   "cell_type": "code",
   "execution_count": 68,
   "metadata": {},
   "outputs": [],
   "source": [
    "train_ds = train_ds.map(scale)"
   ]
  },
  {
   "cell_type": "code",
   "execution_count": 71,
   "metadata": {},
   "outputs": [
    {
     "name": "stdout",
     "output_type": "stream",
     "text": [
      "Image:  [0.93333334 0.93333334 0.93333334]\n",
      "Label:  b'cats'\n",
      "Image:  [0.09762423 0.15397757 0.09800971]\n",
      "Label:  b'dogs'\n",
      "Image:  [0.17275007 0.22765204 0.        ]\n",
      "Label:  b'dogs'\n"
     ]
    }
   ],
   "source": [
    "for image, label in train_ds.take(3):\n",
    "    print(\"Image: \",image[0][0].numpy())\n",
    "    print(\"Label: \", label.numpy())"
   ]
  },
  {
   "cell_type": "code",
   "execution_count": null,
   "metadata": {},
   "outputs": [],
   "source": []
  }
 ],
 "metadata": {
  "kernelspec": {
   "display_name": "Python 3",
   "language": "python",
   "name": "python3"
  },
  "language_info": {
   "codemirror_mode": {
    "name": "ipython",
    "version": 3
   },
   "file_extension": ".py",
   "mimetype": "text/x-python",
   "name": "python",
   "nbconvert_exporter": "python",
   "pygments_lexer": "ipython3",
   "version": "3.11.4"
  }
 },
 "nbformat": 4,
 "nbformat_minor": 2
}
